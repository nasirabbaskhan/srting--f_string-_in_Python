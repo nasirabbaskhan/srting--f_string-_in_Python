{
 "cells": [
  {
   "cell_type": "markdown",
   "metadata": {},
   "source": [
    "# string Data Type in Python\n"
   ]
  },
  {
   "cell_type": "code",
   "execution_count": 6,
   "metadata": {},
   "outputs": [
    {
     "name": "stdout",
     "output_type": "stream",
     "text": [
      "Nasir abbas\n",
      "<class 'str'>\n"
     ]
    }
   ],
   "source": [
    "# string bounderies\n",
    "# \"string tex\", 'string text', '''string text ''', \"\"\"string text\"\"\", \n",
    "name : str = \"Nasir abbas\"\n",
    "print(name)\n",
    "print(type(name))"
   ]
  },
  {
   "cell_type": "code",
   "execution_count": 7,
   "metadata": {},
   "outputs": [
    {
     "name": "stdout",
     "output_type": "stream",
     "text": [
      "Nasir abbas\n",
      "<class 'str'>\n"
     ]
    }
   ],
   "source": [
    "# string bounderies\n",
    "# \"string tex\", 'string text', '''string text ''', \"\"\"string text\"\"\", \n",
    "name : str = 'Nasir abbas'\n",
    "print(name)\n",
    "print(type(name))"
   ]
  },
  {
   "cell_type": "code",
   "execution_count": 8,
   "metadata": {},
   "outputs": [
    {
     "name": "stdout",
     "output_type": "stream",
     "text": [
      "Nasir abbas\n",
      "<class 'str'>\n"
     ]
    }
   ],
   "source": [
    "# string bounderies\n",
    "# \"string tex\", 'string text', '''string text ''', \"\"\"string text\"\"\", \n",
    "name : str = '''Nasir abbas'''\n",
    "print(name)\n",
    "print(type(name))"
   ]
  },
  {
   "cell_type": "code",
   "execution_count": 9,
   "metadata": {},
   "outputs": [
    {
     "name": "stdout",
     "output_type": "stream",
     "text": [
      "Nasir abbas\n",
      "<class 'str'>\n"
     ]
    }
   ],
   "source": [
    "# string bounderies\n",
    "# \"string tex\", 'string text', '''string text ''', \"\"\"string text\"\"\", \n",
    "name : str = \"\"\"Nasir abbas\"\"\"\n",
    "print(name)\n",
    "print(type(name))"
   ]
  },
  {
   "cell_type": "code",
   "execution_count": 10,
   "metadata": {},
   "outputs": [
    {
     "name": "stdout",
     "output_type": "stream",
     "text": [
      "Nasir's abbas\n",
      "<class 'str'>\n"
     ]
    }
   ],
   "source": [
    "\n",
    "name : str = \"Nasir's abbas\"\n",
    "print(name)\n",
    "print(type(name))"
   ]
  },
  {
   "cell_type": "code",
   "execution_count": 11,
   "metadata": {},
   "outputs": [
    {
     "name": "stdout",
     "output_type": "stream",
     "text": [
      "Nasir\"s abbas\n",
      "<class 'str'>\n"
     ]
    }
   ],
   "source": [
    "name : str = 'Nasir\"s abbas'\n",
    "print(name)\n",
    "print(type(name))"
   ]
  },
  {
   "cell_type": "code",
   "execution_count": 12,
   "metadata": {},
   "outputs": [
    {
     "name": "stdout",
     "output_type": "stream",
     "text": [
      "Nasir's abbas\n",
      "<class 'str'>\n"
     ]
    }
   ],
   "source": [
    "name : str = \"\"\"Nasir's abbas\"\"\"\n",
    "print(name)\n",
    "print(type(name))"
   ]
  },
  {
   "cell_type": "code",
   "execution_count": 14,
   "metadata": {},
   "outputs": [
    {
     "name": "stdout",
     "output_type": "stream",
     "text": [
      "PIAIC \"student card\" father Name\n"
     ]
    }
   ],
   "source": [
    "# double cote inside the string\n",
    "message: str = 'PIAIC \"student card\" \\n father Name'\n",
    "print(message)"
   ]
  },
  {
   "cell_type": "code",
   "execution_count": 15,
   "metadata": {},
   "outputs": [
    {
     "name": "stdout",
     "output_type": "stream",
     "text": [
      "PIAIC student card \n",
      " father's Name\n"
     ]
    }
   ],
   "source": [
    "# single cote inside the string\n",
    "message: str = \"PIAIC student card \\n father's Name\"\n",
    "print(message)"
   ]
  },
  {
   "cell_type": "code",
   "execution_count": 19,
   "metadata": {},
   "outputs": [
    {
     "name": "stdout",
     "output_type": "stream",
     "text": [
      "PIAIC student card \n",
      " father's Name\n"
     ]
    }
   ],
   "source": [
    "# both single cote inside the single cote string\n",
    "# convert any spacial character into sinple character , place \\ before that character\n",
    "\n",
    "\n",
    "message: str = 'PIAIC student card \\n father\\'s Name'\n",
    "print(message)"
   ]
  },
  {
   "cell_type": "code",
   "execution_count": 17,
   "metadata": {},
   "outputs": [
    {
     "name": "stdout",
     "output_type": "stream",
     "text": [
      "PIAIC \"student card\" \n",
      " father's Name\n"
     ]
    }
   ],
   "source": [
    "# both single and double cote inside the string\n",
    "message: str = \"\"\"PIAIC \"student card\" \\n father's Name\"\"\"\n",
    "print(message)"
   ]
  },
  {
   "cell_type": "markdown",
   "metadata": {},
   "source": [
    "# usage is triple cote  \"\"\" \"\"\" , '''  '''"
   ]
  },
  {
   "cell_type": "markdown",
   "metadata": {},
   "source": [
    "## \"\\\\n\" for new line\n",
    "## \"\\\\\" for continue\n",
    "## + for concanicating"
   ]
  },
  {
   "cell_type": "code",
   "execution_count": 25,
   "metadata": {},
   "outputs": [
    {
     "name": "stdout",
     "output_type": "stream",
     "text": [
      "PIAIC student Cat \n",
      " Student Name:Nasir Abbas\n",
      " age: 22\n",
      " EducationMaster in Data Sciense\n"
     ]
    }
   ],
   "source": [
    "# \n",
    "name:str = \"Nasir Abbas\"\n",
    "fname:str = \"Manzoor hussain\"\n",
    "education: str = \"Master in Data Sciense\" \n",
    "age: int = 22\n",
    "cart: str = \"PIAIC student Cat \\\n",
    "\\n Student Name:\" + name + \\\n",
    "\"\\n age: \" + str(age) + \\\n",
    "\"\\n Education\"  + education\n",
    " # concaninate can not perform on different data types\n",
    "print(cart)"
   ]
  },
  {
   "cell_type": "code",
   "execution_count": 26,
   "metadata": {},
   "outputs": [
    {
     "name": "stdout",
     "output_type": "stream",
     "text": [
      "\n",
      "PIAIC Student Card\n",
      "Student Name:....\n",
      "Father's Name:...\n",
      "Age :...\n",
      "Education:...\n",
      "\n",
      "\n",
      "\n"
     ]
    }
   ],
   "source": [
    "# ther is no need concatinat \\n for new line \n",
    "name:str = \"Nasir Abbas\"\n",
    "fname:str = \"Manzoor hussain\"\n",
    "education: str = \"Master in Data Sciense\" \n",
    "age: int = 22\n",
    "cart: str = \"\"\"\n",
    "PIAIC Student Card\n",
    "Student Name:....\n",
    "Father's Name:...\n",
    "Age :...\n",
    "Education:...\n",
    "\n",
    "\n",
    "\"\"\"\n",
    "print(cart)"
   ]
  },
  {
   "cell_type": "markdown",
   "metadata": {},
   "source": [
    "# F-String in Python"
   ]
  },
  {
   "cell_type": "markdown",
   "metadata": {},
   "source": [
    "## Recommended F-string style only"
   ]
  },
  {
   "cell_type": "code",
   "execution_count": 29,
   "metadata": {},
   "outputs": [
    {
     "name": "stdout",
     "output_type": "stream",
     "text": [
      "\n",
      "PIAIC Student Card\n",
      "Student Name: Nasir Abbas\n",
      "Father's Name: Manzoor hussain\n",
      "Age : 22\n",
      "Education: Master in Data Sciense\n",
      "\n",
      "\n",
      "\n"
     ]
    }
   ],
   "source": [
    "# f_string enable you to print the varible's value inside the string just like backtics in typescript\n",
    "name:str = \"Nasir Abbas\"\n",
    "fname:str = \"Manzoor hussain\"\n",
    "education: str = \"Master in Data Sciense\" \n",
    "age: int = 22\n",
    "cart: str = f\"\"\"\n",
    "PIAIC Student Card\n",
    "Student Name: {name}\n",
    "Father's Name: {fname}\n",
    "Age : {age}\n",
    "Education: {education}\n",
    "\n",
    "\n",
    "\"\"\"\n",
    "print(cart)"
   ]
  },
  {
   "cell_type": "code",
   "execution_count": 30,
   "metadata": {},
   "outputs": [
    {
     "name": "stdout",
     "output_type": "stream",
     "text": [
      "\n",
      "PIAIC Student Card\n",
      "Student Name: Nasir Abbas\n",
      "Father's Name: Manzoor hussain\n",
      "Age : 22\n",
      "Education: Master in Data Sciense\n",
      "\n"
     ]
    }
   ],
   "source": [
    "# f_string ewith tripe siingle cote\n",
    "name:str = \"Nasir Abbas\"\n",
    "fname:str = \"Manzoor hussain\"\n",
    "education: str = \"Master in Data Sciense\" \n",
    "age: int = 22\n",
    "cart: str = f'''\n",
    "PIAIC Student Card\n",
    "Student Name: {name}\n",
    "Father's Name: {fname}\n",
    "Age : {age}\n",
    "Education: {education}\n",
    "'''\n",
    "print(cart)"
   ]
  },
  {
   "cell_type": "code",
   "execution_count": 33,
   "metadata": {},
   "outputs": [
    {
     "name": "stdout",
     "output_type": "stream",
     "text": [
      "\n",
      "PIAIC Student Card\n",
      "Student Name: Nasir Abbas\n",
      "Father's Name: Manzoor hussain\n",
      "Age : 22\n",
      "Education: Master in Data Sciense\n",
      "total: 23 \n",
      "\n",
      "\n"
     ]
    }
   ],
   "source": [
    "# f_string with performing calculation\n",
    "name:str = \"Nasir Abbas\"\n",
    "fname:str = \"Manzoor hussain\"\n",
    "education: str = \"Master in Data Sciense\" \n",
    "age: int = 22\n",
    "cart: str = f\"\"\"\n",
    "PIAIC Student Card\n",
    "Student Name: {name}\n",
    "Father's Name: {fname}\n",
    "Age : {age}\n",
    "Education: {education}\n",
    "total: {2+5+7+8+1} \n",
    "\n",
    "\"\"\"\n",
    "print(cart)"
   ]
  },
  {
   "cell_type": "markdown",
   "metadata": {},
   "source": [
    "## F-string and jinja style"
   ]
  },
  {
   "cell_type": "code",
   "execution_count": 39,
   "metadata": {},
   "outputs": [
    {
     "data": {
      "text/plain": [
       "'Pakistan value of a = 7 and value of b = 6'"
      ]
     },
     "execution_count": 39,
     "metadata": {},
     "output_type": "execute_result"
    }
   ],
   "source": [
    "a = 7\n",
    "b = 6\n",
    "# {} is plsce holder\n",
    "#                       0                   1         0 1 \n",
    "\"Pakistan value of a = {} and value of b = {}\".format(a,b)"
   ]
  },
  {
   "cell_type": "code",
   "execution_count": 40,
   "metadata": {},
   "outputs": [
    {
     "name": "stdout",
     "output_type": "stream",
     "text": [
      "\n",
      "PIAIC Student Card\n",
      "Student Name: Nasir Abbas\n",
      "Father's Name: Manzoor hussain\n",
      "Age : Master in Data Sciense\n",
      "Education: 22\n",
      "\n"
     ]
    }
   ],
   "source": [
    "name:str = \"Nasir Abbas\"\n",
    "fname:str = \"Manzoor hussain\"\n",
    "education: str = \"Master in Data Sciense\" \n",
    "age: int = 22\n",
    "cart: str = '''\n",
    "PIAIC Student Card\n",
    "Student Name: {}\n",
    "Father's Name: {}\n",
    "Age : {}\n",
    "Education: {}\n",
    "''' .format(name,fname,education,age,)\n",
    "#           0    1      2        3\n",
    "# here is podition problem\n",
    "print(cart)"
   ]
  },
  {
   "cell_type": "code",
   "execution_count": 41,
   "metadata": {},
   "outputs": [
    {
     "name": "stdout",
     "output_type": "stream",
     "text": [
      "\n",
      "PIAIC Student Card\n",
      "Student Name: Nasir Abbas\n",
      "Father's Name: Manzoor hussain\n",
      "Age : 22\n",
      "Education: Master in Data Sciense\n",
      "\n"
     ]
    }
   ],
   "source": [
    "name:str = \"Nasir Abbas\"\n",
    "fname:str = \"Manzoor hussain\"\n",
    "education: str = \"Master in Data Sciense\" \n",
    "age: int = 22\n",
    "cart: str = '''\n",
    "PIAIC Student Card\n",
    "Student Name: {0}\n",
    "Father's Name: {1}\n",
    "Age : {3}\n",
    "Education: {2}\n",
    "''' .format(name,fname,education,age,)\n",
    "#           0    1      2        3\n",
    "# we can use index\n",
    "print(cart)"
   ]
  },
  {
   "cell_type": "code",
   "execution_count": 43,
   "metadata": {},
   "outputs": [
    {
     "name": "stdout",
     "output_type": "stream",
     "text": [
      "\n",
      "PIAIC Student Card\n",
      "Student Name: Nasir Abbas\n",
      "Father's Name: Manzoor hussain\n",
      "Age : 22\n",
      "Education: Master in Data Sciense\n",
      "\n"
     ]
    }
   ],
   "source": [
    "name:str = \"Nasir Abbas\"\n",
    "fname:str = \"Manzoor hussain\"\n",
    "education: str = \"Master in Data Sciense\" \n",
    "age: int = 22\n",
    "cart: str = '''\n",
    "PIAIC Student Card\n",
    "Student Name: {a}\n",
    "Father's Name: {b}\n",
    "Age : {c}\n",
    "Education: {d}\n",
    "''' .format(a=name,b=fname,d=education,c=age,)\n",
    "#           0    1      2        3\n",
    "# we can use varibe as index\n",
    "print(cart)"
   ]
  },
  {
   "cell_type": "code",
   "execution_count": 45,
   "metadata": {},
   "outputs": [
    {
     "name": "stdout",
     "output_type": "stream",
     "text": [
      "\n",
      "print(\"My name is Nasir Abbas\")\n",
      "a:int = 3\n",
      "b:int= 4\n",
      "print(a+b)\n",
      "\n",
      "My name is Nasir Abbas\n",
      "7\n"
     ]
    }
   ],
   "source": [
    "student_code:str = \"\"\"\n",
    "print(\"My name is Nasir Abbas\")\n",
    "a:int = 3\n",
    "b:int= 4\n",
    "print(a+b)\n",
    "\"\"\"\n",
    "\n",
    "print(student_code)\n",
    "exec(student_code)"
   ]
  },
  {
   "cell_type": "markdown",
   "metadata": {},
   "source": [
    "# Explore string method and attributes"
   ]
  },
  {
   "cell_type": "markdown",
   "metadata": {},
   "source": [
    "\n",
    "* print\n",
    "* type\n",
    "* id\n",
    "* dir\n",
    "* len\n",
    "* lower\n",
    "* uper"
   ]
  },
  {
   "cell_type": "code",
   "execution_count": 46,
   "metadata": {},
   "outputs": [
    {
     "name": "stdout",
     "output_type": "stream",
     "text": [
      "['capitalize', 'casefold', 'center', 'count', 'encode', 'endswith', 'expandtabs', 'find', 'format', 'index', 'isalnum', 'isalpha', 'isascii', 'isdecimal', 'isdigit', 'isidentifier', 'islower', 'isnumeric', 'isprintable', 'isspace', 'istitle', 'isupper', 'join', 'ljust', 'lower', 'lstrip', 'maketrans', 'partition', 'removeprefix', 'removesuffix', 'replace', 'rfind', 'rindex', 'rjust', 'rpartition', 'rsplit', 'rstrip', 'split', 'splitlines', 'startswith', 'strip', 'swapcase', 'title', 'translate', 'upper', 'zfill']\n",
      "46\n"
     ]
    }
   ],
   "source": [
    "a:list[str] = [i for i in dir(str) if \"_\" not in i]\n",
    "print(a)\n",
    "print(len(a))"
   ]
  },
  {
   "cell_type": "code",
   "execution_count": 75,
   "metadata": {},
   "outputs": [
    {
     "name": "stdout",
     "output_type": "stream",
     "text": [
      "Nasir abbas\n",
      "NASIR ABBAS\n",
      "nasir abbas\n",
      "Nasir Abbas\n"
     ]
    }
   ],
   "source": [
    "name:str = \"naSIr aBBas\"\n",
    "print(name.capitalize())\n",
    "print(name.upper())\n",
    "print(name.lower())\n",
    "print(name.title())\n"
   ]
  },
  {
   "cell_type": "code",
   "execution_count": 49,
   "metadata": {},
   "outputs": [
    {
     "name": "stdout",
     "output_type": "stream",
     "text": [
      "naSIr aBBas\n",
      "nasir abbas\n"
     ]
    }
   ],
   "source": [
    "name:str = \"naSIr aBBas\"\n",
    "print(name)\n",
    "print(name.casefold()) # same as lower()"
   ]
  },
  {
   "cell_type": "code",
   "execution_count": 66,
   "metadata": {},
   "outputs": [
    {
     "data": {
      "text/plain": [
       "'   Pakistan zindaabad         '"
      ]
     },
     "metadata": {},
     "output_type": "display_data"
    },
    {
     "data": {
      "text/plain": [
       "'Pakistan zindaabad         '"
      ]
     },
     "metadata": {},
     "output_type": "display_data"
    },
    {
     "data": {
      "text/plain": [
       "'   Pakistan zindaabad'"
      ]
     },
     "metadata": {},
     "output_type": "display_data"
    },
    {
     "data": {
      "text/plain": [
       "'Pakistan zindaabad'"
      ]
     },
     "metadata": {},
     "output_type": "display_data"
    }
   ],
   "source": [
    "name:str = \"   Pakistan zindaabad         \"\n",
    "display(name)\n",
    "display(name.lstrip()) # left side trip\n",
    "display(name.rstrip()) # right side trip\n",
    "display(name.strip()) # both side side trip\n"
   ]
  },
  {
   "cell_type": "code",
   "execution_count": 74,
   "metadata": {},
   "outputs": [
    {
     "data": {
      "text/plain": [
       "'   Pakistan      zindaabad         '"
      ]
     },
     "metadata": {},
     "output_type": "display_data"
    },
    {
     "data": {
      "text/plain": [
       "'Pakistan zindaabad'"
      ]
     },
     "metadata": {},
     "output_type": "display_data"
    }
   ],
   "source": [
    "# regex used for removing inside spacing\n",
    "import re\n",
    "name:str = \"   Pakistan      zindaabad         \"\n",
    "display(name)\n",
    "name1:str = re.sub(' {2,100}',' ', name).strip()\n",
    "display(name1)"
   ]
  }
 ],
 "metadata": {
  "kernelspec": {
   "display_name": "Python 3",
   "language": "python",
   "name": "python3"
  },
  "language_info": {
   "codemirror_mode": {
    "name": "ipython",
    "version": 3
   },
   "file_extension": ".py",
   "mimetype": "text/x-python",
   "name": "python",
   "nbconvert_exporter": "python",
   "pygments_lexer": "ipython3",
   "version": "3.12.3"
  }
 },
 "nbformat": 4,
 "nbformat_minor": 2
}
